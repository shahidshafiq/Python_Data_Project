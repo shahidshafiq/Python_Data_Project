{
 "cells": [
  {
   "cell_type": "code",
   "execution_count": 31,
   "metadata": {},
   "outputs": [],
   "source": [
    "import pandas as pd\n",
    "import matplotlib.pyplot as plt\n",
    "from datasets import load_dataset\n",
    "dataset = load_dataset(\"lukebarousse/data_jobs\")\n",
    "df = dataset[\"train\"].to_pandas()\n",
    "df[\"job_posted_date\"] = pd.to_datetime(df[\"job_posted_date\"])"
   ]
  },
  {
   "cell_type": "code",
   "execution_count": 32,
   "metadata": {},
   "outputs": [],
   "source": [
    "df_original = df.copy()"
   ]
  },
  {
   "cell_type": "code",
   "execution_count": 33,
   "metadata": {},
   "outputs": [
    {
     "data": {
      "text/plain": [
       "0   NaN\n",
       "1   NaN\n",
       "2   NaN\n",
       "3   NaN\n",
       "4   NaN\n",
       "5   NaN\n",
       "Name: salary_year_avg, dtype: float64"
      ]
     },
     "execution_count": 33,
     "metadata": {},
     "output_type": "execute_result"
    }
   ],
   "source": [
    "df_original.loc[:5, \"salary_year_avg\"]"
   ]
  },
  {
   "cell_type": "code",
   "execution_count": 35,
   "metadata": {},
   "outputs": [],
   "source": [
    "median_salary = df_original[\"salary_year_avg\"].median()\n",
    "df_original[\"salary_year_avg\"] =  df_original[\"salary_year_avg\"].fillna(median_salary)"
   ]
  },
  {
   "cell_type": "code",
   "execution_count": 36,
   "metadata": {},
   "outputs": [
    {
     "data": {
      "text/plain": [
       "0    115000.0\n",
       "1    115000.0\n",
       "2    115000.0\n",
       "3    115000.0\n",
       "4    115000.0\n",
       "5    115000.0\n",
       "Name: salary_year_avg, dtype: float64"
      ]
     },
     "execution_count": 36,
     "metadata": {},
     "output_type": "execute_result"
    }
   ],
   "source": [
    "df_original.loc[:5, \"salary_year_avg\"]"
   ]
  },
  {
   "cell_type": "code",
   "execution_count": 37,
   "metadata": {},
   "outputs": [
    {
     "data": {
      "text/plain": [
       "0   NaN\n",
       "1   NaN\n",
       "2   NaN\n",
       "3   NaN\n",
       "4   NaN\n",
       "5   NaN\n",
       "Name: salary_year_avg, dtype: float64"
      ]
     },
     "execution_count": 37,
     "metadata": {},
     "output_type": "execute_result"
    }
   ],
   "source": [
    "df.loc[:5, \"salary_year_avg\"]"
   ]
  },
  {
   "cell_type": "code",
   "execution_count": 50,
   "metadata": {},
   "outputs": [
    {
     "data": {
      "text/html": [
       "<div>\n",
       "<style scoped>\n",
       "    .dataframe tbody tr th:only-of-type {\n",
       "        vertical-align: middle;\n",
       "    }\n",
       "\n",
       "    .dataframe tbody tr th {\n",
       "        vertical-align: top;\n",
       "    }\n",
       "\n",
       "    .dataframe thead th {\n",
       "        text-align: right;\n",
       "    }\n",
       "</style>\n",
       "<table border=\"1\" class=\"dataframe\">\n",
       "  <thead>\n",
       "    <tr style=\"text-align: right;\">\n",
       "      <th></th>\n",
       "      <th>job_title_short</th>\n",
       "      <th>job_title</th>\n",
       "      <th>job_location</th>\n",
       "      <th>job_via</th>\n",
       "      <th>job_schedule_type</th>\n",
       "      <th>job_work_from_home</th>\n",
       "      <th>search_location</th>\n",
       "      <th>job_posted_date</th>\n",
       "      <th>job_no_degree_mention</th>\n",
       "      <th>job_health_insurance</th>\n",
       "      <th>job_country</th>\n",
       "      <th>salary_rate</th>\n",
       "      <th>salary_year_avg</th>\n",
       "      <th>salary_hour_avg</th>\n",
       "      <th>company_name</th>\n",
       "      <th>job_skills</th>\n",
       "      <th>job_type_skills</th>\n",
       "    </tr>\n",
       "  </thead>\n",
       "  <tbody>\n",
       "    <tr>\n",
       "      <th>56273</th>\n",
       "      <td>Data Analyst</td>\n",
       "      <td>Programadora Data Analytics</td>\n",
       "      <td>Argentina</td>\n",
       "      <td>via BeBee</td>\n",
       "      <td>Full-time</td>\n",
       "      <td>False</td>\n",
       "      <td>Argentina</td>\n",
       "      <td>2023-08-24 06:52:16</td>\n",
       "      <td>False</td>\n",
       "      <td>False</td>\n",
       "      <td>Argentina</td>\n",
       "      <td>None</td>\n",
       "      <td>NaN</td>\n",
       "      <td>NaN</td>\n",
       "      <td>Emprego</td>\n",
       "      <td>['java', 'firebase', 'firebase']</td>\n",
       "      <td>{'cloud': ['firebase'], 'databases': ['firebas...</td>\n",
       "    </tr>\n",
       "    <tr>\n",
       "      <th>82300</th>\n",
       "      <td>Senior Data Scientist</td>\n",
       "      <td>Senior Data Scientist</td>\n",
       "      <td>Texas</td>\n",
       "      <td>via Recruit.net</td>\n",
       "      <td>Full-time</td>\n",
       "      <td>False</td>\n",
       "      <td>Sudan</td>\n",
       "      <td>2023-12-31 00:27:24</td>\n",
       "      <td>False</td>\n",
       "      <td>False</td>\n",
       "      <td>Sudan</td>\n",
       "      <td>None</td>\n",
       "      <td>NaN</td>\n",
       "      <td>NaN</td>\n",
       "      <td>Xforia</td>\n",
       "      <td>['python', 'r', 'pytorch', 'spark']</td>\n",
       "      <td>{'libraries': ['pytorch', 'spark'], 'programmi...</td>\n",
       "    </tr>\n",
       "    <tr>\n",
       "      <th>417161</th>\n",
       "      <td>Senior Data Analyst</td>\n",
       "      <td>Senior Digital Analyst</td>\n",
       "      <td>Dubai - United Arab Emirates</td>\n",
       "      <td>via LinkedIn</td>\n",
       "      <td>Full-time</td>\n",
       "      <td>False</td>\n",
       "      <td>United Arab Emirates</td>\n",
       "      <td>2023-07-25 16:26:53</td>\n",
       "      <td>True</td>\n",
       "      <td>False</td>\n",
       "      <td>United Arab Emirates</td>\n",
       "      <td>None</td>\n",
       "      <td>NaN</td>\n",
       "      <td>NaN</td>\n",
       "      <td>KingMakers</td>\n",
       "      <td>['firebase', 'firebase', 'power bi']</td>\n",
       "      <td>{'analyst_tools': ['power bi'], 'cloud': ['fir...</td>\n",
       "    </tr>\n",
       "    <tr>\n",
       "      <th>772554</th>\n",
       "      <td>Data Analyst</td>\n",
       "      <td>Bilingual Data Analyst</td>\n",
       "      <td>Anywhere</td>\n",
       "      <td>via LinkedIn</td>\n",
       "      <td>Contractor</td>\n",
       "      <td>True</td>\n",
       "      <td>Canada</td>\n",
       "      <td>2023-03-14 01:28:29</td>\n",
       "      <td>True</td>\n",
       "      <td>False</td>\n",
       "      <td>Canada</td>\n",
       "      <td>None</td>\n",
       "      <td>NaN</td>\n",
       "      <td>NaN</td>\n",
       "      <td>Randstad Canada</td>\n",
       "      <td>['sql', 'excel']</td>\n",
       "      <td>{'analyst_tools': ['excel'], 'programming': ['...</td>\n",
       "    </tr>\n",
       "    <tr>\n",
       "      <th>555945</th>\n",
       "      <td>Data Scientist</td>\n",
       "      <td>Lead Data Scientist</td>\n",
       "      <td>Singapore</td>\n",
       "      <td>via LinkedIn</td>\n",
       "      <td>Full-time</td>\n",
       "      <td>False</td>\n",
       "      <td>Singapore</td>\n",
       "      <td>2023-12-19 19:37:17</td>\n",
       "      <td>False</td>\n",
       "      <td>False</td>\n",
       "      <td>Singapore</td>\n",
       "      <td>None</td>\n",
       "      <td>NaN</td>\n",
       "      <td>NaN</td>\n",
       "      <td>ABOITIZ DATA INNOVATION PTE. LTD.</td>\n",
       "      <td>['r', 'python', 'aws', 'gcp', 'hadoop', 'kafka...</td>\n",
       "      <td>{'cloud': ['aws', 'gcp'], 'libraries': ['hadoo...</td>\n",
       "    </tr>\n",
       "  </tbody>\n",
       "</table>\n",
       "</div>"
      ],
      "text/plain": [
       "              job_title_short                    job_title  \\\n",
       "56273            Data Analyst  Programadora Data Analytics   \n",
       "82300   Senior Data Scientist        Senior Data Scientist   \n",
       "417161    Senior Data Analyst       Senior Digital Analyst   \n",
       "772554           Data Analyst       Bilingual Data Analyst   \n",
       "555945         Data Scientist          Lead Data Scientist   \n",
       "\n",
       "                        job_location          job_via job_schedule_type  \\\n",
       "56273                      Argentina        via BeBee         Full-time   \n",
       "82300                          Texas  via Recruit.net         Full-time   \n",
       "417161  Dubai - United Arab Emirates     via LinkedIn         Full-time   \n",
       "772554                      Anywhere     via LinkedIn        Contractor   \n",
       "555945                     Singapore     via LinkedIn         Full-time   \n",
       "\n",
       "        job_work_from_home       search_location     job_posted_date  \\\n",
       "56273                False             Argentina 2023-08-24 06:52:16   \n",
       "82300                False                 Sudan 2023-12-31 00:27:24   \n",
       "417161               False  United Arab Emirates 2023-07-25 16:26:53   \n",
       "772554                True                Canada 2023-03-14 01:28:29   \n",
       "555945               False             Singapore 2023-12-19 19:37:17   \n",
       "\n",
       "        job_no_degree_mention  job_health_insurance           job_country  \\\n",
       "56273                   False                 False             Argentina   \n",
       "82300                   False                 False                 Sudan   \n",
       "417161                   True                 False  United Arab Emirates   \n",
       "772554                   True                 False                Canada   \n",
       "555945                  False                 False             Singapore   \n",
       "\n",
       "       salary_rate  salary_year_avg  salary_hour_avg  \\\n",
       "56273         None              NaN              NaN   \n",
       "82300         None              NaN              NaN   \n",
       "417161        None              NaN              NaN   \n",
       "772554        None              NaN              NaN   \n",
       "555945        None              NaN              NaN   \n",
       "\n",
       "                             company_name  \\\n",
       "56273                             Emprego   \n",
       "82300                              Xforia   \n",
       "417161                         KingMakers   \n",
       "772554                    Randstad Canada   \n",
       "555945  ABOITIZ DATA INNOVATION PTE. LTD.   \n",
       "\n",
       "                                               job_skills  \\\n",
       "56273                    ['java', 'firebase', 'firebase']   \n",
       "82300                 ['python', 'r', 'pytorch', 'spark']   \n",
       "417161               ['firebase', 'firebase', 'power bi']   \n",
       "772554                                   ['sql', 'excel']   \n",
       "555945  ['r', 'python', 'aws', 'gcp', 'hadoop', 'kafka...   \n",
       "\n",
       "                                          job_type_skills  \n",
       "56273   {'cloud': ['firebase'], 'databases': ['firebas...  \n",
       "82300   {'libraries': ['pytorch', 'spark'], 'programmi...  \n",
       "417161  {'analyst_tools': ['power bi'], 'cloud': ['fir...  \n",
       "772554  {'analyst_tools': ['excel'], 'programming': ['...  \n",
       "555945  {'cloud': ['aws', 'gcp'], 'libraries': ['hadoo...  "
      ]
     },
     "execution_count": 50,
     "metadata": {},
     "output_type": "execute_result"
    }
   ],
   "source": [
    "df.sample(5, replace=True)"
   ]
  }
 ],
 "metadata": {
  "kernelspec": {
   "display_name": "python_course",
   "language": "python",
   "name": "python3"
  },
  "language_info": {
   "codemirror_mode": {
    "name": "ipython",
    "version": 3
   },
   "file_extension": ".py",
   "mimetype": "text/x-python",
   "name": "python",
   "nbconvert_exporter": "python",
   "pygments_lexer": "ipython3",
   "version": "3.11.9"
  }
 },
 "nbformat": 4,
 "nbformat_minor": 2
}
