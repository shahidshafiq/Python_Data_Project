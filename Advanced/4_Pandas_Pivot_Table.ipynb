{
 "cells": [
  {
   "cell_type": "code",
   "execution_count": 8,
   "metadata": {},
   "outputs": [],
   "source": [
    "import pandas as pd\n",
    "from datasets import load_dataset\n",
    "import matplotlib.pyplot as plt  \n",
    "\n",
    "# Loading Data\n",
    "dataset = load_dataset('lukebarousse/data_jobs')\n",
    "df = dataset['train'].to_pandas()\n",
    "\n",
    "# Data Cleanup\n",
    "df['job_posted_date'] = pd.to_datetime(df['job_posted_date'])"
   ]
  },
  {
   "cell_type": "code",
   "execution_count": 38,
   "metadata": {},
   "outputs": [],
   "source": [
    "median_salary = df.pivot_table(values = \"salary_year_avg\", index = \"job_country\", columns = \"job_title_short\", aggfunc = \"median\")"
   ]
  },
  {
   "cell_type": "code",
   "execution_count": 39,
   "metadata": {},
   "outputs": [
    {
     "data": {
      "text/html": [
       "<div>\n",
       "<style scoped>\n",
       "    .dataframe tbody tr th:only-of-type {\n",
       "        vertical-align: middle;\n",
       "    }\n",
       "\n",
       "    .dataframe tbody tr th {\n",
       "        vertical-align: top;\n",
       "    }\n",
       "\n",
       "    .dataframe thead th {\n",
       "        text-align: right;\n",
       "    }\n",
       "</style>\n",
       "<table border=\"1\" class=\"dataframe\">\n",
       "  <thead>\n",
       "    <tr style=\"text-align: right;\">\n",
       "      <th>job_title_short</th>\n",
       "      <th>Business Analyst</th>\n",
       "      <th>Cloud Engineer</th>\n",
       "      <th>Data Analyst</th>\n",
       "      <th>Data Engineer</th>\n",
       "      <th>Data Scientist</th>\n",
       "      <th>Machine Learning Engineer</th>\n",
       "      <th>Senior Data Analyst</th>\n",
       "      <th>Senior Data Engineer</th>\n",
       "      <th>Senior Data Scientist</th>\n",
       "      <th>Software Engineer</th>\n",
       "    </tr>\n",
       "    <tr>\n",
       "      <th>job_country</th>\n",
       "      <th></th>\n",
       "      <th></th>\n",
       "      <th></th>\n",
       "      <th></th>\n",
       "      <th></th>\n",
       "      <th></th>\n",
       "      <th></th>\n",
       "      <th></th>\n",
       "      <th></th>\n",
       "      <th></th>\n",
       "    </tr>\n",
       "  </thead>\n",
       "  <tbody>\n",
       "    <tr>\n",
       "      <th>Albania</th>\n",
       "      <td>NaN</td>\n",
       "      <td>NaN</td>\n",
       "      <td>49950.00</td>\n",
       "      <td>NaN</td>\n",
       "      <td>69981.25</td>\n",
       "      <td>NaN</td>\n",
       "      <td>NaN</td>\n",
       "      <td>NaN</td>\n",
       "      <td>157500.0</td>\n",
       "      <td>NaN</td>\n",
       "    </tr>\n",
       "    <tr>\n",
       "      <th>Algeria</th>\n",
       "      <td>NaN</td>\n",
       "      <td>NaN</td>\n",
       "      <td>44100.00</td>\n",
       "      <td>45000.0</td>\n",
       "      <td>NaN</td>\n",
       "      <td>NaN</td>\n",
       "      <td>NaN</td>\n",
       "      <td>NaN</td>\n",
       "      <td>NaN</td>\n",
       "      <td>NaN</td>\n",
       "    </tr>\n",
       "    <tr>\n",
       "      <th>Argentina</th>\n",
       "      <td>71100.0</td>\n",
       "      <td>197500.0</td>\n",
       "      <td>92771.75</td>\n",
       "      <td>96773.0</td>\n",
       "      <td>71000.00</td>\n",
       "      <td>101029.0</td>\n",
       "      <td>NaN</td>\n",
       "      <td>147500.0</td>\n",
       "      <td>NaN</td>\n",
       "      <td>174500.0</td>\n",
       "    </tr>\n",
       "    <tr>\n",
       "      <th>Armenia</th>\n",
       "      <td>NaN</td>\n",
       "      <td>NaN</td>\n",
       "      <td>100500.00</td>\n",
       "      <td>48750.0</td>\n",
       "      <td>NaN</td>\n",
       "      <td>87021.0</td>\n",
       "      <td>NaN</td>\n",
       "      <td>NaN</td>\n",
       "      <td>NaN</td>\n",
       "      <td>NaN</td>\n",
       "    </tr>\n",
       "    <tr>\n",
       "      <th>Australia</th>\n",
       "      <td>70000.0</td>\n",
       "      <td>110000.0</td>\n",
       "      <td>109500.00</td>\n",
       "      <td>106712.5</td>\n",
       "      <td>139216.00</td>\n",
       "      <td>101029.0</td>\n",
       "      <td>50640.0</td>\n",
       "      <td>147500.0</td>\n",
       "      <td>157500.0</td>\n",
       "      <td>118350.0</td>\n",
       "    </tr>\n",
       "    <tr>\n",
       "      <th>...</th>\n",
       "      <td>...</td>\n",
       "      <td>...</td>\n",
       "      <td>...</td>\n",
       "      <td>...</td>\n",
       "      <td>...</td>\n",
       "      <td>...</td>\n",
       "      <td>...</td>\n",
       "      <td>...</td>\n",
       "      <td>...</td>\n",
       "      <td>...</td>\n",
       "    </tr>\n",
       "    <tr>\n",
       "      <th>Uruguay</th>\n",
       "      <td>NaN</td>\n",
       "      <td>NaN</td>\n",
       "      <td>100500.00</td>\n",
       "      <td>NaN</td>\n",
       "      <td>NaN</td>\n",
       "      <td>50000.0</td>\n",
       "      <td>NaN</td>\n",
       "      <td>NaN</td>\n",
       "      <td>57500.0</td>\n",
       "      <td>NaN</td>\n",
       "    </tr>\n",
       "    <tr>\n",
       "      <th>Uzbekistan</th>\n",
       "      <td>NaN</td>\n",
       "      <td>NaN</td>\n",
       "      <td>NaN</td>\n",
       "      <td>NaN</td>\n",
       "      <td>30750.00</td>\n",
       "      <td>NaN</td>\n",
       "      <td>NaN</td>\n",
       "      <td>NaN</td>\n",
       "      <td>NaN</td>\n",
       "      <td>NaN</td>\n",
       "    </tr>\n",
       "    <tr>\n",
       "      <th>Vietnam</th>\n",
       "      <td>79200.0</td>\n",
       "      <td>NaN</td>\n",
       "      <td>75550.00</td>\n",
       "      <td>96773.0</td>\n",
       "      <td>70000.00</td>\n",
       "      <td>57600.0</td>\n",
       "      <td>105837.5</td>\n",
       "      <td>147500.0</td>\n",
       "      <td>79200.0</td>\n",
       "      <td>53600.0</td>\n",
       "    </tr>\n",
       "    <tr>\n",
       "      <th>Zambia</th>\n",
       "      <td>NaN</td>\n",
       "      <td>NaN</td>\n",
       "      <td>NaN</td>\n",
       "      <td>NaN</td>\n",
       "      <td>90670.00</td>\n",
       "      <td>NaN</td>\n",
       "      <td>NaN</td>\n",
       "      <td>NaN</td>\n",
       "      <td>NaN</td>\n",
       "      <td>NaN</td>\n",
       "    </tr>\n",
       "    <tr>\n",
       "      <th>Zimbabwe</th>\n",
       "      <td>NaN</td>\n",
       "      <td>NaN</td>\n",
       "      <td>63000.00</td>\n",
       "      <td>NaN</td>\n",
       "      <td>69085.00</td>\n",
       "      <td>NaN</td>\n",
       "      <td>NaN</td>\n",
       "      <td>NaN</td>\n",
       "      <td>NaN</td>\n",
       "      <td>NaN</td>\n",
       "    </tr>\n",
       "  </tbody>\n",
       "</table>\n",
       "<p>108 rows × 10 columns</p>\n",
       "</div>"
      ],
      "text/plain": [
       "job_title_short  Business Analyst  Cloud Engineer  Data Analyst  \\\n",
       "job_country                                                       \n",
       "Albania                       NaN             NaN      49950.00   \n",
       "Algeria                       NaN             NaN      44100.00   \n",
       "Argentina                 71100.0        197500.0      92771.75   \n",
       "Armenia                       NaN             NaN     100500.00   \n",
       "Australia                 70000.0        110000.0     109500.00   \n",
       "...                           ...             ...           ...   \n",
       "Uruguay                       NaN             NaN     100500.00   \n",
       "Uzbekistan                    NaN             NaN           NaN   \n",
       "Vietnam                   79200.0             NaN      75550.00   \n",
       "Zambia                        NaN             NaN           NaN   \n",
       "Zimbabwe                      NaN             NaN      63000.00   \n",
       "\n",
       "job_title_short  Data Engineer  Data Scientist  Machine Learning Engineer  \\\n",
       "job_country                                                                 \n",
       "Albania                    NaN        69981.25                        NaN   \n",
       "Algeria                45000.0             NaN                        NaN   \n",
       "Argentina              96773.0        71000.00                   101029.0   \n",
       "Armenia                48750.0             NaN                    87021.0   \n",
       "Australia             106712.5       139216.00                   101029.0   \n",
       "...                        ...             ...                        ...   \n",
       "Uruguay                    NaN             NaN                    50000.0   \n",
       "Uzbekistan                 NaN        30750.00                        NaN   \n",
       "Vietnam                96773.0        70000.00                    57600.0   \n",
       "Zambia                     NaN        90670.00                        NaN   \n",
       "Zimbabwe                   NaN        69085.00                        NaN   \n",
       "\n",
       "job_title_short  Senior Data Analyst  Senior Data Engineer  \\\n",
       "job_country                                                  \n",
       "Albania                          NaN                   NaN   \n",
       "Algeria                          NaN                   NaN   \n",
       "Argentina                        NaN              147500.0   \n",
       "Armenia                          NaN                   NaN   \n",
       "Australia                    50640.0              147500.0   \n",
       "...                              ...                   ...   \n",
       "Uruguay                          NaN                   NaN   \n",
       "Uzbekistan                       NaN                   NaN   \n",
       "Vietnam                     105837.5              147500.0   \n",
       "Zambia                           NaN                   NaN   \n",
       "Zimbabwe                         NaN                   NaN   \n",
       "\n",
       "job_title_short  Senior Data Scientist  Software Engineer  \n",
       "job_country                                                \n",
       "Albania                       157500.0                NaN  \n",
       "Algeria                            NaN                NaN  \n",
       "Argentina                          NaN           174500.0  \n",
       "Armenia                            NaN                NaN  \n",
       "Australia                     157500.0           118350.0  \n",
       "...                                ...                ...  \n",
       "Uruguay                        57500.0                NaN  \n",
       "Uzbekistan                         NaN                NaN  \n",
       "Vietnam                        79200.0            53600.0  \n",
       "Zambia                             NaN                NaN  \n",
       "Zimbabwe                           NaN                NaN  \n",
       "\n",
       "[108 rows x 10 columns]"
      ]
     },
     "execution_count": 39,
     "metadata": {},
     "output_type": "execute_result"
    }
   ],
   "source": [
    "median_salary"
   ]
  },
  {
   "cell_type": "code",
   "execution_count": 66,
   "metadata": {},
   "outputs": [
    {
     "data": {
      "text/plain": [
       "Index(['United States', 'India', 'United Kingdom'], dtype='object', name='job_country')"
      ]
     },
     "execution_count": 66,
     "metadata": {},
     "output_type": "execute_result"
    }
   ],
   "source": [
    "top_countries = df['job_country'].value_counts().head(3).index\n",
    "top_countries"
   ]
  },
  {
   "cell_type": "code",
   "execution_count": 67,
   "metadata": {},
   "outputs": [
    {
     "data": {
      "text/html": [
       "<div>\n",
       "<style scoped>\n",
       "    .dataframe tbody tr th:only-of-type {\n",
       "        vertical-align: middle;\n",
       "    }\n",
       "\n",
       "    .dataframe tbody tr th {\n",
       "        vertical-align: top;\n",
       "    }\n",
       "\n",
       "    .dataframe thead th {\n",
       "        text-align: right;\n",
       "    }\n",
       "</style>\n",
       "<table border=\"1\" class=\"dataframe\">\n",
       "  <thead>\n",
       "    <tr style=\"text-align: right;\">\n",
       "      <th>job_title_short</th>\n",
       "      <th>Business Analyst</th>\n",
       "      <th>Cloud Engineer</th>\n",
       "      <th>Data Analyst</th>\n",
       "      <th>Data Engineer</th>\n",
       "      <th>Data Scientist</th>\n",
       "      <th>Machine Learning Engineer</th>\n",
       "      <th>Senior Data Analyst</th>\n",
       "      <th>Senior Data Engineer</th>\n",
       "      <th>Senior Data Scientist</th>\n",
       "      <th>Software Engineer</th>\n",
       "    </tr>\n",
       "    <tr>\n",
       "      <th>job_country</th>\n",
       "      <th></th>\n",
       "      <th></th>\n",
       "      <th></th>\n",
       "      <th></th>\n",
       "      <th></th>\n",
       "      <th></th>\n",
       "      <th></th>\n",
       "      <th></th>\n",
       "      <th></th>\n",
       "      <th></th>\n",
       "    </tr>\n",
       "  </thead>\n",
       "  <tbody>\n",
       "    <tr>\n",
       "      <th>United States</th>\n",
       "      <td>90000.0</td>\n",
       "      <td>116100.0</td>\n",
       "      <td>90000.0</td>\n",
       "      <td>125000.0</td>\n",
       "      <td>130000.0</td>\n",
       "      <td>150000.0</td>\n",
       "      <td>110000.0</td>\n",
       "      <td>150000.0</td>\n",
       "      <td>155000.0</td>\n",
       "      <td>130000.0</td>\n",
       "    </tr>\n",
       "    <tr>\n",
       "      <th>India</th>\n",
       "      <td>64800.0</td>\n",
       "      <td>NaN</td>\n",
       "      <td>100500.0</td>\n",
       "      <td>147500.0</td>\n",
       "      <td>114008.0</td>\n",
       "      <td>79200.0</td>\n",
       "      <td>111175.0</td>\n",
       "      <td>147500.0</td>\n",
       "      <td>149653.0</td>\n",
       "      <td>79200.0</td>\n",
       "    </tr>\n",
       "    <tr>\n",
       "      <th>United Kingdom</th>\n",
       "      <td>56700.0</td>\n",
       "      <td>NaN</td>\n",
       "      <td>87750.0</td>\n",
       "      <td>110000.0</td>\n",
       "      <td>105300.0</td>\n",
       "      <td>149653.0</td>\n",
       "      <td>111175.0</td>\n",
       "      <td>147500.0</td>\n",
       "      <td>157500.0</td>\n",
       "      <td>89100.0</td>\n",
       "    </tr>\n",
       "  </tbody>\n",
       "</table>\n",
       "</div>"
      ],
      "text/plain": [
       "job_title_short  Business Analyst  Cloud Engineer  Data Analyst  \\\n",
       "job_country                                                       \n",
       "United States             90000.0        116100.0       90000.0   \n",
       "India                     64800.0             NaN      100500.0   \n",
       "United Kingdom            56700.0             NaN       87750.0   \n",
       "\n",
       "job_title_short  Data Engineer  Data Scientist  Machine Learning Engineer  \\\n",
       "job_country                                                                 \n",
       "United States         125000.0        130000.0                   150000.0   \n",
       "India                 147500.0        114008.0                    79200.0   \n",
       "United Kingdom        110000.0        105300.0                   149653.0   \n",
       "\n",
       "job_title_short  Senior Data Analyst  Senior Data Engineer  \\\n",
       "job_country                                                  \n",
       "United States               110000.0              150000.0   \n",
       "India                       111175.0              147500.0   \n",
       "United Kingdom              111175.0              147500.0   \n",
       "\n",
       "job_title_short  Senior Data Scientist  Software Engineer  \n",
       "job_country                                                \n",
       "United States                 155000.0           130000.0  \n",
       "India                         149653.0            79200.0  \n",
       "United Kingdom                157500.0            89100.0  "
      ]
     },
     "execution_count": 67,
     "metadata": {},
     "output_type": "execute_result"
    }
   ],
   "source": [
    "median_salary = median_salary.loc[top_countries]\n",
    "median_salary"
   ]
  },
  {
   "cell_type": "code",
   "execution_count": 54,
   "metadata": {},
   "outputs": [],
   "source": [
    "we_got_what_we_needed = median_salary[[\"Data Analyst\", \"Data Engineer\", \"Data Scientist\"]]"
   ]
  },
  {
   "cell_type": "code",
   "execution_count": 56,
   "metadata": {},
   "outputs": [
    {
     "data": {
      "text/plain": [
       "<Axes: xlabel='job_country'>"
      ]
     },
     "execution_count": 56,
     "metadata": {},
     "output_type": "execute_result"
    },
    {
     "data": {
      "image/png": "[encoded data removed]",
      "text/plain": [
       "<Figure size 640x480 with 1 Axes>"
      ]
     },
     "metadata": {},
     "output_type": "display_data"
    }
   ],
   "source": [
    "we_got_what_we_needed.plot(kind = \"bar\")"
   ]
  },
  {
   "cell_type": "code",
   "execution_count": 83,
   "metadata": {},
   "outputs": [
    {
     "data": {
      "text/plain": [
       "Index(['United States', 'India', 'United Kingdom'], dtype='object', name='job_country')"
      ]
     },
     "execution_count": 83,
     "metadata": {},
     "output_type": "execute_result"
    }
   ],
   "source": [
    "hourly =   df.pivot_table(\"salary_hour_avg\", index = \"job_title_short\", columns = \"job_country\", aggfunc= \"mean\")\n",
    "country_list = df[\"job_country\"].value_counts().head(3).index\n",
    "country_list"
   ]
  },
  {
   "cell_type": "code",
   "execution_count": 87,
   "metadata": {},
   "outputs": [
    {
     "data": {
      "text/plain": [
       "<Axes: xlabel='job_title_short'>"
      ]
     },
     "execution_count": 87,
     "metadata": {},
     "output_type": "execute_result"
    },
    {
     "data": {
      "image/png": "[encoded data removed]",
      "text/plain": [
       "<Figure size 640x480 with 1 Axes>"
      ]
     },
     "metadata": {},
     "output_type": "display_data"
    }
   ],
   "source": [
    "hourly = hourly[country_list]\n",
    "hourly.plot(kind = \"bar\")\n"
   ]
  }
 ],
 "metadata": {
  "kernelspec": {
   "display_name": "python_course",
   "language": "python",
   "name": "python3"
  },
  "language_info": {
   "codemirror_mode": {
    "name": "ipython",
    "version": 3
   },
   "file_extension": ".py",
   "mimetype": "text/x-python",
   "name": "python",
   "nbconvert_exporter": "python",
   "pygments_lexer": "ipython3",
   "version": "3.11.9"
  }
 },
 "nbformat": 4,
 "nbformat_minor": 2
}
